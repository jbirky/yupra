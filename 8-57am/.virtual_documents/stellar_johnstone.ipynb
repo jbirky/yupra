import numpy as np
from astropy import units as u
import matplotlib.pyplot as plt
import multiprocessing as mp

import vplanet_inference as vpi








# To run implement the Johnstone model, we will define the mean and uncertainty for the model parameters

j21 = {"beta1": (-0.135, 0.030),
       "beta2": (-1.889, 0.079),
       "Rosat": (0.0605, 0.00331),
       "RXsat": (5.135e-4, 3.320e-5)}


# Initialize the vplanet model with the input and output parameters

inpath = "../infiles/stellar/"
outpath = "output/"

inparams = {"star.dMass": u.Msun,
            "star.dRotPeriod": u.days,
            "vpl.dStopTime": u.Gyr}

outparams = {"final.star.Luminosity": u.Lsun,
             "final.star.RotPer": u.days,
             "final.star.RossbyNumber": u.dimensionless_unscaled}

vpm = vpi.VplanetModel(inparams=inparams,
                       outparams=outparams,
                       inpath=inpath,
                       outpath=outpath,
                       time_init=5e6*u.yr,
                       timesteps=1e6*u.yr,
                       verbose=True)


# Implement the additional equations needed for the Johnstone XUV luminosity model

def LXUV_model(mstar, prot, age, beta1, beta2, Rosat, RXsat):

    evol = vpm.run_model(np.array([mstar, prot, age]), remove=True)
    ross = evol["final.star.RossbyNumber"]
    lbol = evol["final.star.Luminosity"]

    C1 = RXsat / Rosat**beta1
    C2 = RXsat / Rosat**beta2
    
    rx = np.zeros(len(ross))
    for ii in range(len(ross)):
        if ross[ii] < Rosat:
            rx[ii] = C1 * ross[ii]**beta1
        else:
            rx[ii] = C2 * ross[ii]**beta2

    evol["final.star.RX"] = rx
    evol["final.star.LXUV"] = rx * lbol

    return evol





# inputs: theta = [mstar, prot, age, beta1, beta2, Rosat, RXsat]

theta = np.array([1.0, 0.5, 9.0, j21["beta1"][0], j21["beta2"][0], j21["Rosat"][0], j21["RXsat"][0]])
evol = LXUV_model(*theta)


def plot_evolution(evols, title="Johnstone 2021"):

    fig, axs = plt.subplots(3, 1, figsize=[10,14], sharex=True)

    for evol in evols:
        lbol = evol["final.star.Luminosity"].to(u.erg/u.s)
        lxuv = evol["final.star.LXUV"].to(u.erg/u.s)
        prot = evol["final.star.RotPer"]

        axs[0].plot(evol["Time"], lbol, color="k", alpha=0.5)
        axs[1].plot(evol["Time"], lxuv, color="k", alpha=0.5)
        axs[2].plot(evol["Time"], prot, color="k", alpha=0.5)

    axs[0].set_title(title, fontsize=24)
    axs[0].set_ylabel("Bolometric Luminosity [{}]".format(lbol.unit), fontsize=20)
    axs[0].set_xscale('log')
    axs[0].set_yscale('log')

    axs[1].set_ylabel("X-ray Luminosity [{}]".format(lxuv.unit), fontsize=20)
    axs[1].set_xscale('log')
    axs[1].set_yscale('log')

    axs[2].set_ylabel("Rotation Period [{}]".format(prot.unit), fontsize=20)
    axs[2].set_xlabel("Time [yr]", fontsize=20)
    axs[2].set_xscale('log')
    axs[2].set_yscale('log')

    axs[0].set_xlim(min(evol["Time"].value), max(evol["Time"].value))
    plt.tight_layout()
    
    return fig


plot_evolution([evol]);

# note that the input to the plot_evolution function is a list of dictionaries, where each dictionary is the output of the LXUV_model function
# since evol is a single dictionary, we add brackets around it to make it a list





# Trappist-1

nsamp = 20
mass_samp = np.random.normal(0.089, 0.007, nsamp)
prot_samp = np.random.uniform(0.01, 5.0, nsamp)
age_samp = np.ones(nsamp) * 9.0
beta1_samp = np.random.normal(j21["beta1"][0], j21["beta1"][1], nsamp)
beta2_samp = np.random.normal(j21["beta2"][0], j21["beta2"][1], nsamp)
Rosat_samp = np.random.normal(j21["Rosat"][0], j21["Rosat"][1], nsamp)
RXsat_samp = np.random.normal(j21["RXsat"][0], j21["RXsat"][1], nsamp)

thetas = np.array([mass_samp, prot_samp, age_samp, beta1_samp, beta2_samp, Rosat_samp, RXsat_samp]).T

# Run with multiple cores
ncores = mp.cpu_count()
print("number of cores available:", ncores)
with mp.Pool(ncores) as pool:
    evols = pool.starmap(LXUV_model, thetas)

# If multiple cores does not work, comment out the previous two lines and uncomment the following lines 
# evols = []
# for ii in range(nsamp):
#     evols.append(LXUV_model(*thetas[ii]))





# data = [mean, lower error, upper error]

Lbol_data = np.array([5.22e-4, -0.19e-4, 0.19e-4]) * u.Lsun
Lbol_data = Lbol_data.to(u.erg/u.s).value

Lxuv_data = np.array([1.0e-4, -0.1e-4, 0.1e-4]) * Lbol_data * u.Lsun
Lxuv_data = Lxuv_data.value

Prot_data = np.array([3.295, -0.003, 0.003]) * u.day
Prot_data = Prot_data.value

age_data = np.array([7.6, -2.2, 2.2]) * u.Gyr
age_data = age_data.to(u.yr).value


fig = plot_evolution(evols, title="Trappist-1 model samples")
axs = fig.axes

axs[0].axhline(Lbol_data[0], color="r", linestyle="--")
axs[0].axhspan(Lbol_data[0]+Lbol_data[1], Lbol_data[0]+Lbol_data[2], color="r", alpha=0.2)

axs[1].axhline(Lxuv_data[0], color="r", linestyle="--")
axs[1].axhspan(Lxuv_data[0]+Lxuv_data[1], Lxuv_data[0]+Lxuv_data[2], color="r", alpha=0.2)

axs[2].axhline(Prot_data[0], color="r", linestyle="--")
axs[2].axhspan(Prot_data[0]+Prot_data[1], Prot_data[0]+Prot_data[2], color="r", alpha=0.2)

for ii in range(len(axs)):
    axs[ii].axvline(age_data[0], color="r", linestyle="--")
    axs[ii].axvspan(age_data[0]+age_data[1], age_data[0]+age_data[2], color="r", alpha=0.2)

fig.show()







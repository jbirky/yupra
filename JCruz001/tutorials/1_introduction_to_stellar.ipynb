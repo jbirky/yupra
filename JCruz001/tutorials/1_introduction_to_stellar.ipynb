{
  "cells": [
    {
      "cell_type": "code",
      "execution_count": 55,
      "metadata": {
        "id": "PJuHBZhRD15F"
      },
      "outputs": [],
      "source": [
        "import os\n",
        "import numpy as np\n",
        "from astropy import units as u\n",
        "import matplotlib.pyplot as plt\n",
        "from matplotlib import rcParams\n",
        "rcParams['font.family'] = 'stixgeneral'\n",
        "rcParams['text.usetex'] = False\n",
        "rcParams['xtick.labelsize'] = 16\n",
        "rcParams['ytick.labelsize'] = 16\n",
        "rcParams['axes.labelsize'] = 16\n",
        "\n",
        "import vplanet_inference as vpi"
      ]
    },
    {
      "cell_type": "code",
      "execution_count": 56,
      "metadata": {},
      "outputs": [],
      "source": [
        "import vplanet \n",
        "import alabi"
      ]
    },
    {
      "cell_type": "markdown",
      "metadata": {
        "id": "TV1xwutuEm9g"
      },
      "source": [
        "### Set up input and output file directories\n",
        "\n",
        "`vplanet_inference` requires that we have a set of template infiles saved somewhere. We will call the directory containing the infiles the `inpath`.\n",
        "\n",
        "It also requires that we specify an `outpath` directory where infiles will be copied from `inpath` and written with the substituted parameters that we specify."
      ]
    },
    {
      "cell_type": "code",
      "execution_count": 57,
      "metadata": {
        "id": "LklFasxgEj7k"
      },
      "outputs": [],
      "source": [
        "# Specify the directory to read infile templates from\n",
        "inpath = os.path.join(vpi.INFILE_DIR, \"/home/jcruz001/research/vplanet_inference/infiles/stellar\")\n",
        "\n",
        "\n",
        "# Speficy the directory where infiles will be written to\n",
        "outpath = \"output/\""
      ]
    },
    {
      "cell_type": "markdown",
      "metadata": {
        "id": "2DHNDaCjErca"
      },
      "source": [
        "#### astropy units\n",
        "\n",
        "`vplanet_inference` makes use of a package called `astropy` to specify and handle all unit conversions in its calculations.\n",
        "\n",
        "You can check out the [astropy docs](https://docs.astropy.org/en/stable/units/index.html) for an in-depth explanation for how to use `astropy.units`, but some useful units we'll use here are:\n",
        "\n",
        "| Unit | Symbol | astropy variable |\n",
        "| --- | --- | --- |\n",
        "| Solar mass | $M_\\odot$ | `u.Msun` |\n",
        "| Solar luminosity | $L_\\odot$ | `u.Lsun` |\n",
        "| Solar radius | $R_\\odot$ | `u.Rsun` |\n",
        "| year | yr | `u.yr` |\n",
        "| no units |  | `u.dimensionless_unscaled` |\n",
        "\n",
        "Units can manipulated and converted to other units, for example:"
      ]
    },
    {
      "cell_type": "code",
      "execution_count": 6,
      "metadata": {},
      "outputs": [
        {
          "data": {
            "text/latex": [
              "$10 \\; \\mathrm{\\frac{m}{s}}$"
            ],
            "text/plain": [
              "<Quantity 10. m / s>"
            ]
          },
          "execution_count": 6,
          "metadata": {},
          "output_type": "execute_result"
        }
      ],
      "source": [
        "10 * u.m / u.s"
      ]
    },
    {
      "cell_type": "code",
      "execution_count": 4,
      "metadata": {},
      "outputs": [
        {
          "data": {
            "text/latex": [
              "$1.9884099 \\times 10^{30} \\; \\mathrm{kg}$"
            ],
            "text/plain": [
              "<Quantity 1.98840987e+30 kg>"
            ]
          },
          "execution_count": 4,
          "metadata": {},
          "output_type": "execute_result"
        }
      ],
      "source": [
        "(1*u.Msun).to(u.kg)"
      ]
    },
    {
      "cell_type": "code",
      "execution_count": 7,
      "metadata": {},
      "outputs": [
        {
          "data": {
            "text/latex": [
              "$1.3888889 \\; \\mathrm{\\frac{m}{s}}$"
            ],
            "text/plain": [
              "<Quantity 1.38888889 m / s>"
            ]
          },
          "execution_count": 7,
          "metadata": {},
          "output_type": "execute_result"
        }
      ],
      "source": [
        "(5 * u.km / u.hr).to(u.m / u.s)"
      ]
    },
    {
      "cell_type": "markdown",
      "metadata": {},
      "source": [
        "#### Specify model Input parameters\n",
        "\n",
        "We can choose which variables in the infiles that we want to vary by creating a dictionary called `inparams`. The dict keys follow the convention `<infile name>.<variable name>` and the dict values specify the units for the variables using `astropy.units`."
      ]
    },
    {
      "cell_type": "code",
      "execution_count": 58,
      "metadata": {
        "id": "oPePm0lYEpjQ"
      },
      "outputs": [],
      "source": [
        "# Dictionary of input parameters and units\n",
        "inparams = {\"star.dMass\": u.Msun,\n",
        "            \"vpl.dStopTime\": u.Gyr}"
      ]
    },
    {
      "cell_type": "markdown",
      "metadata": {
        "id": "EN5Pr1HSEvkV"
      },
      "source": [
        "#### Specify model Output parameters\n",
        "\n",
        "Similarly we can also create a dictionary called `outparams` which tells `vplanet_inference` which variables to add to our `saOutputOrder` for each body. The dict keys follow the convention `final.<body name>.<variable name>`, and the dict values use `astropy.units`.  "
      ]
    },
    {
      "cell_type": "code",
      "execution_count": 59,
      "metadata": {
        "id": "UbB3VS9DEwNK"
      },
      "outputs": [],
      "source": [
        "# Dictionary of output parameters and units\n",
        "outparams = {\"final.star.Radius\": u.Rsun,\n",
        "             \"final.star.Luminosity\": u.Lsun}"
      ]
    },
    {
      "cell_type": "markdown",
      "metadata": {},
      "source": [
        "#### Initialize the vplanet model\n",
        "\n",
        "Once we've specified our input and output variables (`inparams` and `outparams`), and the directories where input and output files will be read/written (`inpath` and `outpath`), we can initialize a `VplanetModel`. \n",
        "\n",
        "In addition, we can also specify the `time_init` (the initial time at which the simulation starts) and the `timesteps` (how frequently the outputs will be spaced). So if we set `time_init=5e6*u.yr` and `timesteps=1e6*u.yr` this will give us output times spaced like: [5e6, 6e6, 7e6, ..., 8.999e9, 9e9]\n",
        "\n",
        "Setting `verbose = True` will tell the model to print out progress info when we run the model."
      ]
    },
    {
      "cell_type": "code",
      "execution_count": 60,
      "metadata": {
        "id": "Do2VGH5hE3xE"
      },
      "outputs": [],
      "source": [
        "vpm = vpi.VplanetModel(inparams=inparams,\n",
        "                       outparams=outparams,\n",
        "                       inpath=\"/home/jcruz001/research/vplanet_inference/infiles/stellar\",\n",
        "                       outpath=\"/home/jcruz001/research/yupra/JCruz001/tutorials/output\",\n",
        "                       time_init=5e6*u.yr,\n",
        "                       timesteps=1e6*u.yr,\n",
        "                       verbose=True)"
      ]
    },
    {
      "cell_type": "markdown",
      "metadata": {
        "id": "wvncnB28E7YB"
      },
      "source": [
        "#### Example: evolution of the sun\n",
        "\n",
        "As an example, we'll compute the evolution of a sun-like star.\n",
        "\n",
        "We'll define a variable called `theta`, which will be our array of values that we substitute in for the inparameters. These values should be the same order and units that we specified in our `inparams` dictionary. For this example, we'll set `star.dMass` to `1.0` solar masses, and `vpl.dStopTime` (the final age of the system) to `9.0` gigayears.\n",
        "\n",
        "We can also optionally choose to save the written infiles to a specified `outsubpath` if we wish to inspect those later, such as for debugging. (If you run many simulations though, it is often better to say `remove=True` which deletes the infiles after the results are read. This will save you disk space.)"
      ]
    },
    {
      "cell_type": "code",
      "execution_count": 61,
      "metadata": {
        "id": "geVHfqDRE6ah"
      },
      "outputs": [
        {
          "name": "stdout",
          "output_type": "stream",
          "text": [
            "\n",
            "Input:\n",
            "-----------------\n",
            "star.dMass : 1.0 [solMass] (user)   --->   1.988409870698051e+30 [kg] (vpl file)\n",
            "vpl.dStopTime : 9.0 [Gyr] (user)   --->   2.840184e+17 [s] (vpl file)\n",
            "\n",
            "Created file /home/jcruz001/research/yupra/JCruz001/tutorials/output/solar_evol/vpl.in\n",
            "Created file /home/jcruz001/research/yupra/JCruz001/tutorials/output/solar_evol/star.in\n",
            "Executed model /home/jcruz001/research/yupra/JCruz001/tutorials/output/solar_evol/vpl.in 46.960 s\n",
            "\n",
            "Output:\n",
            "-----------------\n",
            "final.star.Luminosity : 1.46994644723093 [solLum]\n",
            "final.star.Radius : 1.2128696277130946 [solRad]\n",
            "\n"
          ]
        }
      ],
      "source": [
        "# Run the vplanet model\n",
        "theta = np.array([1.0, 9.0])\n",
        "evol = vpm.run_model(theta, remove=False, outsubpath=\"solar_evol\")"
      ]
    },
    {
      "cell_type": "markdown",
      "metadata": {},
      "source": [
        "The results of our evolution model are saved to a variable called `evol`. If you print the results, you'll see that `evol` is a dictionary, where the keys are the variables we specified in our `outparams` dictionary, and the values of the dictionary are arrays containing value of each variable at each timestep with the units we specified."
      ]
    },
    {
      "cell_type": "code",
      "execution_count": 62,
      "metadata": {},
      "outputs": [
        {
          "data": {
            "text/plain": [
              "{'final.star.Luminosity': <VPLANETQuantity [0.64096578, 0.57682419, 0.53206505, ..., 1.46994645,\n",
              "                   1.46994645, 1.46994645] solLum>,\n",
              " 'final.star.Radius': <VPLANETQuantity [1.43389392, 1.36010004, 1.3032261 , ..., 1.21286963,\n",
              "                   1.21286963, 1.21286963] solRad>,\n",
              " 'Time': <VPLANETQuantity [0.00000000e+00, 1.00000000e+06, 2.00000000e+06, ...,\n",
              "                   8.99800048e+09, 8.99899866e+09, 9.00000000e+09] yr>}"
            ]
          },
          "execution_count": 62,
          "metadata": {},
          "output_type": "execute_result"
        }
      ],
      "source": [
        "evol"
      ]
    },
    {
      "cell_type": "markdown",
      "metadata": {},
      "source": [
        "#### Plotting the evolution\n",
        "\n",
        "We can plot the results showing the stars luminosity evolution vs. time:"
      ]
    },
    {
      "cell_type": "code",
      "execution_count": 63,
      "metadata": {
        "id": "4Orku2voFL_E"
      },
      "outputs": [
        {
          "data": {
            "image/png": "[encoded data removed]",
            "text/plain": [
              "<Figure size 800x600 with 1 Axes>"
            ]
          },
          "metadata": {},
          "output_type": "display_data"
        }
      ],
      "source": [
        "plt.figure(figsize=[8,6])\n",
        "plt.plot(evol[\"Time\"], evol[\"final.star.Luminosity\"])\n",
        "plt.xlabel(\"Time [yr]\")\n",
        "plt.ylabel(\"Luminosity\")\n",
        "plt.xscale(\"log\")\n",
        "plt.yscale(\"log\")\n",
        "plt.show()"
      ]
    },
    {
      "cell_type": "markdown",
      "metadata": {},
      "source": [
        "#### Task: plot the evolution of the star's radius"
      ]
    },
    {
      "cell_type": "code",
      "execution_count": 64,
      "metadata": {},
      "outputs": [
        {
          "data": {
            "image/png": "[encoded data removed]",
            "text/plain": [
              "<Figure size 800x600 with 1 Axes>"
            ]
          },
          "metadata": {},
          "output_type": "display_data"
        }
      ],
      "source": [
        "#[your code goes here...]\n",
        "plt.figure(figsize=[8,6])\n",
        "plt.plot(evol[\"Time\"], evol[\"final.star.Radius\"])\n",
        "plt.xlabel(\"Time [yr]\")\n",
        "plt.ylabel(\"Radius\")\n",
        "plt.xscale(\"log\")\n",
        "plt.yscale(\"log\")\n",
        "plt.show()"
      ]
    },
    {
      "cell_type": "markdown",
      "metadata": {},
      "source": [
        "### Options for output variables\n",
        "\n",
        "Take a look at the files that the model has created in `outpath` directory. Within the local directory of this notebook, you should see a list of files like:\n",
        "```bash\n",
        "output/\n",
        "    solar_evol/\n",
        "        star.in\n",
        "        system.log\n",
        "        system.star.forward\n",
        "        vpl.in\n",
        "```\n",
        "\n",
        "Now see what output parameters you can add to `outparams`. For a description of available output options for each `vplanet` model, see the [documentation here](https://virtualplanetarylaboratory.github.io/vplanet/help.html). You can also open up the log file for one of the simulations we've run, which should show a list of variables like this. For example, the file `infile_templates/solar_evol/system.log` should contain a list that looks something like this:\n",
        "\n",
        "<details open>\n",
        "\n",
        "  <summary>system.log</summary>\n",
        "\n",
        "  ```\n",
        "-------- Log file system.log -------\n",
        "\n",
        "Executable: /home/jbirky/.conda/envs/py39/bin/vplanet\n",
        "Version: Unknown\n",
        "System Name: system\n",
        "Primary Input File: vpl.in\n",
        "Body File #1: star.in\n",
        "Allow files to be overwitten: Yes\n",
        "Mass Units: Grams\n",
        "Length Units: Meters\n",
        "Time Units: Seconds\n",
        "Angle Units: Radians\n",
        "\n",
        "------- FORMATTING -----\n",
        "Verbosity Level: 0\n",
        "Crossover Decade for Scientific Notation: 4\n",
        "Number of Digits After Decimal: 6\n",
        "Integration Method: Runge-Kutta4\n",
        "Direction: Forward\n",
        "Time Step: 3.155760e+07\n",
        "Stop Time: 2.840184e+17\n",
        "Output Interval: 3.155760e+13\n",
        "Use Variable Timestep: Yes\n",
        "dEta: 0.010000\n",
        "Minimum Value of ecc and obl: 1.000000e-10\n",
        "\n",
        "\n",
        "---- INITIAL SYSTEM PROPERTIES ----\n",
        "(Age) System Age [sec]: 1.577880e+14 \n",
        "(Time) Simulation Time [sec]: 0.000000 \n",
        "(TotAngMom) Total Angular Momentum [kg*m^2/sec]: 2.904811e+43 \n",
        "(TotEnergy) Total System Energy [kg*m^2/sec^2]: -1.576626e+41 \n",
        "(PotEnergy) Body's non-orbital Potential Energy [kg*m^2/sec^2]: -1.587188e+41 \n",
        "(KinEnergy) Body's non-orbital Kinetic Energy [kg*m^2/sec^2]: 1.056219e+39 \n",
        "(DeltaTime) Average Timestep Over Last Output Interval [sec]: 0.000000 \n",
        "\n",
        "----- BODY: star ----\n",
        "Active Modules: STELLAR\n",
        "Module Bit Sum: 65\n",
        "Color: 000000\n",
        "(Mass) Mass [kg]: 1.988410e+30 \n",
        "(Radius) Radius [m]: 9.975600e+08 \n",
        "(RadGyra) Radius of Gyration/Moment of Inertia Constant []: 0.449297 \n",
        "(RotAngMom) Rotational Angular Momentum [kg*m^2/sec]: 2.904811e+43 \n",
        "(RotVel) Rotational Velocity [m/sec]: 7.254461e+04 \n",
        "(BodyType) Type of Body (0 == planet) []: 0.000000 \n",
        "(RotRate) Rotational Frequency [/sec]: 7.272205e-05 \n",
        "(RotPer) Rotational Period [sec]: 8.640000e+04 \n",
        "(Density) Average Density [kg/m^3]: 478.189663 \n",
        "(HZLimitDryRunaway) Semi-major axis of Dry Runaway HZ Limit [m]: 1.084537e+11 \n",
        "(HZLimRecVenus) Recent Venus HZ Limit [m]: 9.447390e+10 \n",
        "(HZLimRunaway) Runaway Greenhouse HZ Limit [m]: 1.254258e+11 \n",
        "(HZLimMoistGreenhouse) Moist Greenhouse HZ Limit [m]: 1.250040e+11 \n",
        "(HZLimMaxGreenhouse) Maximum Greenhouse HZ Limit [m]: 2.269291e+11 \n",
        "(HZLimEarlyMars) Early Mars HZ Limit [m]: 2.475328e+11 \n",
        "(Instellation) Orbit-averaged INcident STELLar radiATION [kg*m^2/sec^2/(m^2*sec)]: -1.000000 \n",
        "(CriticalSemiMajorAxis) Holman & Wiegert (1999) P-type Critical Semi-major Axis [m]: -1.000000 \n",
        "(LXUVTot) Total XUV Luminosity [kg*m^2/sec^2/(m^2*sec)]: 2.453617e+23 \n",
        "(LostEnergy) Body's Total Lost Energy [kg*m^2/sec^2]: 5.562685e-309 \n",
        "(LostAngMom) Lost Angular Momentum due to Magnetic Braking [kg*m^2/sec]: 5.562685e-309 \n",
        "----- STELLAR PARAMETERS (star)------\n",
        "(Luminosity) Luminosity [kg*m^2/sec^3]: 2.453617e+26 \n",
        "(LXUVStellar) Base X-ray/XUV Luminosity [kg*m^2/sec^3]: 2.453617e+23 \n",
        "(Temperature) Effective Temperature [K]: 4309.976981 \n",
        "(LXUVFrac) Fraction of luminosity in XUV []: 0.001000 \n",
        "(RossbyNumber) Rossby Number []: 0.028968 \n",
        "(DRotPerDtStellar) Time Rate of Change of Rotation Period in STELLAR []: -3.381378e-10 \n",
        "Output Order: Time[sec] Luminosity[kg*m^2/sec^3] Radius[m]\n",
        "Grid Output Order:\n",
        "\n",
        "\n",
        "\n",
        "---- FINAL SYSTEM PROPERTIES ----\n",
        "(Age) System Age [sec]: 2.841762e+17 \n",
        "(Time) Simulation Time [sec]: 2.840184e+17 \n",
        "(TotAngMom) Total Angular Momentum [kg*m^2/sec]: 2.905763e+43 \n",
        "(TotEnergy) Total System Energy [kg*m^2/sec^2]: -1.576418e+41 \n",
        "(PotEnergy) Body's non-orbital Potential Energy [kg*m^2/sec^2]: -1.876426e+41 \n",
        "(KinEnergy) Body's non-orbital Kinetic Energy [kg*m^2/sec^2]: 9.262456e+34 \n",
        "(DeltaTime) Average Timestep Over Last Output Interval [sec]: 8.546382e+07 \n",
        "\n",
        "----- BODY: star ----\n",
        "Active Modules: STELLAR\n",
        "Module Bit Sum: 65\n",
        "Color: 000000\n",
        "(Mass) Mass [kg]: 1.988410e+30 \n",
        "(Radius) Radius [m]: 8.437934e+08 \n",
        "(RadGyra) Radius of Gyration/Moment of Inertia Constant []: 0.237427 \n",
        "(RotAngMom) Rotational Angular Momentum [kg*m^2/sec]: 1.215901e+41 \n",
        "(RotVel) Rotational Velocity [m/sec]: 1285.565269 \n",
        "(BodyType) Type of Body (0 == planet) []: 0.000000 \n",
        "(RotRate) Rotational Frequency [/sec]: 1.523555e-06 \n",
        "(RotPer) Rotational Period [sec]: 4.124030e+06 \n",
        "(Density) Average Density [kg/m^3]: 790.148950 \n",
        "(HZLimitDryRunaway) Semi-major axis of Dry Runaway HZ Limit [m]: 1.642395e+11 \n",
        "(HZLimRecVenus) Recent Venus HZ Limit [m]: 1.354015e+11 \n",
        "(HZLimRunaway) Runaway Greenhouse HZ Limit [m]: 1.768472e+11 \n",
        "(HZLimMoistGreenhouse) Moist Greenhouse HZ Limit [m]: 1.791572e+11 \n",
        "(HZLimMaxGreenhouse) Maximum Greenhouse HZ Limit [m]: 3.038232e+11 \n",
        "(HZLimEarlyMars) Early Mars HZ Limit [m]: 3.314952e+11 \n",
        "(Instellation) Orbit-averaged INcident STELLar radiATION [kg*m^2/sec^2/(m^2*sec)]: -1.000000 \n",
        "(CriticalSemiMajorAxis) Holman & Wiegert (1999) P-type Critical Semi-major Axis [m]: -1.000000 \n",
        "(LXUVTot) Total XUV Luminosity [kg*m^2/sec^2/(m^2*sec)]: 3.769280e+22 \n",
        "(LostEnergy) Body's Total Lost Energy [kg*m^2/sec^2]: 3.000065e+40 \n",
        "(LostAngMom) Lost Angular Momentum due to Magnetic Braking [kg*m^2/sec]: 2.893603e+43 \n",
        "----- STELLAR PARAMETERS (star)------\n",
        "(Luminosity) Luminosity [kg*m^2/sec^3]: 5.626955e+26 \n",
        "(LXUVStellar) Base X-ray/XUV Luminosity [kg*m^2/sec^3]: 3.769280e+22 \n",
        "(Temperature) Effective Temperature [K]: 5767.189213 \n",
        "(LXUVFrac) Fraction of luminosity in XUV []: 6.698615e-05 \n",
        "(RossbyNumber) Rossby Number []: 3.685018 \n",
        "(DRotPerDtStellar) Time Rate of Change of Rotation Period in STELLAR []: 7.878728e-12 \n",
        "Output Order: Time[sec] Luminosity[kg*m^2/sec^3] Radius[m]\n",
        "Grid Output Order:\n",
        "```\n",
        "\n",
        "</details>\n",
        "\n",
        "Parameters listed in parenthesis can be added to the `outparams` dictionary."
      ]
    },
    {
      "cell_type": "markdown",
      "metadata": {},
      "source": [
        "### Adding XUV luminosity as an output parameter\n",
        "\n",
        "Say we also want to model the XUV luminosity of our star.\n",
        "\n",
        "`vplanet` includes the Ribas+2005 empirical model for XUV evolution of low-mass, which is parameterized by a broken power law:\n",
        "\\begin{align}\n",
        "\\frac{L_{\\rm XUV}}{L_{\\rm bol}} = \\left\\{\n",
        "\t\t\t\t\\begin{array}{lcr}\n",
        "\t\t\t\t\tf_\\mathrm{sat} &\\ & t \\leq t_\\mathrm{sat} \\\\\n",
        "\t\t\t\t\tf_\\mathrm{sat}\\left(\\frac{t}{t_\\mathrm{sat}}\\right)^{-\\beta_\\mathrm{XUV}} &\\ & t > t_\\mathrm{sat}\n",
        "\t\t\t\t\\end{array}\n",
        "\t\t\t\t\\right.\n",
        "\\end{align}\n",
        "This model assumes that young (more active) stars exhibit a \"saturated\" level of XUV luminosity relative to bolometric (total luminosity), which then decays exponentially over time, after a \"saturation time\". Here $L_{\\rm bol}$ is the bolometric luminosity [$L_\\odot$], $L_{\\rm XUV}$ is the XUV luminosity [$L_\\odot$], $f_\\mathrm{sat} = \\log_{10}(L_{\\rm XUV}/L_{\\rm bol})$ is the saturation ratio, $t_\\mathrm{sat}$ is the duration of saturation phase [Gyr], $\\beta_\\mathrm{XUV}$ is the exponential decay rate of $L_{\\rm XUV}$ after saturation, and $t$ is the evolution time [Gyr].\n",
        "\n",
        "To have `vplanet` compute the XUV lumiosity evolution using this model, we'll add the following input variables to our body infiles (since they are properties of the star, they will go in `star.in`):\n",
        "```\n",
        "dSatXUVFrac            \n",
        "dSatXUVTime              \n",
        "dXUVBeta   \n",
        "```\n",
        "And we will also add the following variable to our output variables in `saOutputOrder`:\n",
        "```\n",
        "LXUVTot\n",
        "```"
      ]
    },
    {
      "cell_type": "code",
      "execution_count": 70,
      "metadata": {},
      "outputs": [],
      "source": [
        "inparams  = {\"star.dMass\": u.Msun,          \n",
        "             \"star.dSatXUVFrac\": u.dex(u.dimensionless_unscaled),   \n",
        "             \"star.dSatXUVTime\": u.Gyr,    \n",
        "             \"vpl.dStopTime\": u.Gyr,       \n",
        "             \"star.dXUVBeta\": -u.dimensionless_unscaled}\n",
        "\n",
        "outparams = {\"final.star.Radius\": u.Rsun,\n",
        "             \"final.star.Luminosity\": u.Lsun,\n",
        "             \"final.star.LXUVStellar\": u.Lsun,}\n",
        "\n",
        "vpm = vpi.VplanetModel(inparams=inparams,\n",
        "                       outparams=outparams,\n",
        "                       inpath=\"/home/jcruz001/research/vplanet_inference/infiles/stellar\",\n",
        "                       outpath=\"/home/jcruz001/research/yupra/JCruz001/tutorials\",\n",
        "                       time_init=5e6*u.yr,\n",
        "                       timesteps=1e6*u.yr,\n",
        "                       verbose=True)"
      ]
    },
    {
      "cell_type": "markdown",
      "metadata": {},
      "source": [
        "#### Example: evolution of Trappist-1\n",
        "\n",
        "Make modifications to the template above by subsituting different input parameter values, then execute and plot your results. Try using the parameters from [Birky et al. 2021](https://arxiv.org/abs/2105.12562) for the Trappist-1 exoplanet hosting system."
      ]
    },
    {
      "cell_type": "code",
      "execution_count": null,
      "metadata": {},
      "outputs": [],
      "source": []
    },
    {
      "cell_type": "code",
      "execution_count": 1,
      "metadata": {},
      "outputs": [
        {
          "ename": "NameError",
          "evalue": "name 'u' is not defined",
          "output_type": "error",
          "traceback": [
            "\u001b[0;31m---------------------------------------------------------------------------\u001b[0m",
            "\u001b[0;31mNameError\u001b[0m                                 Traceback (most recent call last)",
            "Cell \u001b[0;32mIn[1], line 1\u001b[0m\n\u001b[0;32m----> 1\u001b[0m inparams  \u001b[38;5;241m=\u001b[39m {\u001b[38;5;124m\"\u001b[39m\u001b[38;5;124mstar.dMass\u001b[39m\u001b[38;5;124m\"\u001b[39m: \u001b[43mu\u001b[49m\u001b[38;5;241m.\u001b[39mMsun,          \n\u001b[1;32m      2\u001b[0m              \u001b[38;5;124m\"\u001b[39m\u001b[38;5;124mstar.dSatXUVFrac\u001b[39m\u001b[38;5;124m\"\u001b[39m: u\u001b[38;5;241m.\u001b[39mdex(u\u001b[38;5;241m.\u001b[39mdimensionless_unscaled),   \n\u001b[1;32m      3\u001b[0m              \u001b[38;5;124m\"\u001b[39m\u001b[38;5;124mstar.dSatXUVTime\u001b[39m\u001b[38;5;124m\"\u001b[39m: u\u001b[38;5;241m.\u001b[39mGyr,    \n\u001b[1;32m      4\u001b[0m              \u001b[38;5;124m\"\u001b[39m\u001b[38;5;124mvpl.dStopTime\u001b[39m\u001b[38;5;124m\"\u001b[39m: u\u001b[38;5;241m.\u001b[39mGyr,       \n\u001b[1;32m      5\u001b[0m              \u001b[38;5;124m\"\u001b[39m\u001b[38;5;124mstar.dXUVBeta\u001b[39m\u001b[38;5;124m\"\u001b[39m: \u001b[38;5;241m-\u001b[39mu\u001b[38;5;241m.\u001b[39mdimensionless_unscaled}\n\u001b[1;32m      7\u001b[0m outparams \u001b[38;5;241m=\u001b[39m {\u001b[38;5;124m\"\u001b[39m\u001b[38;5;124mfinal.star.Radius\u001b[39m\u001b[38;5;124m\"\u001b[39m: u\u001b[38;5;241m.\u001b[39mRsun,\n\u001b[1;32m      8\u001b[0m              \u001b[38;5;124m\"\u001b[39m\u001b[38;5;124mfinal.star.Luminosity\u001b[39m\u001b[38;5;124m\"\u001b[39m: u\u001b[38;5;241m.\u001b[39mLsun,\n\u001b[1;32m      9\u001b[0m              \u001b[38;5;124m\"\u001b[39m\u001b[38;5;124mfinal.star.LXUVStellar\u001b[39m\u001b[38;5;124m\"\u001b[39m: u\u001b[38;5;241m.\u001b[39mLsun,\n\u001b[1;32m     10\u001b[0m              \u001b[38;5;124m\"\u001b[39m\u001b[38;5;124minitial.star.LXUVTot\u001b[39m\u001b[38;5;124m\"\u001b[39m: u\u001b[38;5;241m.\u001b[39mLsun,\n\u001b[1;32m     11\u001b[0m              \u001b[38;5;124m\"\u001b[39m\u001b[38;5;124mfinal.star.LXUVTot\u001b[39m\u001b[38;5;124m\"\u001b[39m: u\u001b[38;5;241m.\u001b[39mLsun}\n\u001b[1;32m     13\u001b[0m vpm \u001b[38;5;241m=\u001b[39m vpi\u001b[38;5;241m.\u001b[39mVplanetModel(inparams\u001b[38;5;241m=\u001b[39minparams,\n\u001b[1;32m     14\u001b[0m                        outparams\u001b[38;5;241m=\u001b[39moutparams,\n\u001b[1;32m     15\u001b[0m                        inpath\u001b[38;5;241m=\u001b[39m\u001b[38;5;124m\"\u001b[39m\u001b[38;5;124m/home/jcruz001/research/vplanet_inference/infiles/stellar\u001b[39m\u001b[38;5;124m\"\u001b[39m,\n\u001b[0;32m   (...)\u001b[0m\n\u001b[1;32m     18\u001b[0m                        timesteps\u001b[38;5;241m=\u001b[39m\u001b[38;5;241m1e6\u001b[39m\u001b[38;5;241m*\u001b[39mu\u001b[38;5;241m.\u001b[39myr,\n\u001b[1;32m     19\u001b[0m                        verbose\u001b[38;5;241m=\u001b[39m\u001b[38;5;28;01mTrue\u001b[39;00m)\n",
            "\u001b[0;31mNameError\u001b[0m: name 'u' is not defined"
          ]
        }
      ],
      "source": [
        "inparams  = {\"star.dMass\": u.Msun,          \n",
        "             \"star.dSatXUVFrac\": u.dex(u.dimensionless_unscaled),   \n",
        "             \"star.dSatXUVTime\": u.Gyr,    \n",
        "             \"vpl.dStopTime\": u.Gyr,       \n",
        "             \"star.dXUVBeta\": -u.dimensionless_unscaled}\n",
        "\n",
        "outparams = {\"final.star.Radius\": u.Rsun,\n",
        "             \"final.star.Luminosity\": u.Lsun,\n",
        "             \"final.star.LXUVStellar\": u.Lsun,\n",
        "             \"initial.star.LXUVTot\": u.Lsun,\n",
        "             \"final.star.LXUVTot\": u.Lsun}\n",
        "\n",
        "vpm = vpi.VplanetModel(inparams=inparams,\n",
        "                       outparams=outparams,\n",
        "                       inpath=\"/home/jcruz001/research/vplanet_inference/infiles/stellar\",\n",
        "                       outpath=\"/home/jcruz001/research/yupra/JCruz001/tutorials/output\",\n",
        "                       time_init=5e6*u.yr,\n",
        "                       timesteps=1e6*u.yr,\n",
        "                       verbose=True)"
      ]
    },
    {
      "cell_type": "code",
      "execution_count": 95,
      "metadata": {},
      "outputs": [
        {
          "name": "stdout",
          "output_type": "stream",
          "text": [
            "\n",
            "Input:\n",
            "-----------------\n",
            "star.dMass : 0.09 [solMass] (user)   --->   1.789568883628246e+29 [kg] (vpl file)\n",
            "star.dSatXUVFrac : -3.03 [dex] (user)   --->   0.0009332543007969915 [] (vpl file)\n",
            "star.dSatXUVTime : 3.14 [Gyr] (user)   --->   9.9090864e+16 [s] (vpl file)\n",
            "vpl.dStopTime : 7.96 [Gyr] (user)   --->   2.51198496e+17 [s] (vpl file)\n",
            "star.dXUVBeta : -1.17 [-1.0] (user)   --->   1.17 [] (vpl file)\n",
            "\n",
            "Created file /home/jcruz001/research/yupra/JCruz001/tutorials/output/solar_evol_trappist/vpl.in\n",
            "Created file /home/jcruz001/research/yupra/JCruz001/tutorials/output/solar_evol_trappist/star.in\n",
            "Executed model /home/jcruz001/research/yupra/JCruz001/tutorials/output/solar_evol_trappist/vpl.in 13.703 s\n",
            "Failed to convert parameter star LXUVTot to unit solLum\n",
            "star LXUVTot array: [8.297553e+21 6.953263e+21 6.042797e+21 ... 6.748603e+19 6.747611e+19\n",
            " 6.746620e+19]\n",
            "\n",
            "Output:\n",
            "-----------------\n",
            "final.star.LXUVStellar : 1.7621810344827586e-07 [solLum]\n",
            "final.star.LXUVTot : nan [solLum]\n",
            "final.star.Luminosity : 0.0005610869905956113 [solLum]\n",
            "final.star.Radius : 0.11299965502371712 [solRad]\n",
            "initial.star.LXUVTot : nan [solLum]\n",
            "\n"
          ]
        }
      ],
      "source": [
        "Omega = np.array([0.09,-3.03,3.14, 7.96, -1.17])\n",
        "evol = vpm.run_model(Omega, remove=False, outsubpath=\"solar_evol_trappist\")"
      ]
    },
    {
      "cell_type": "code",
      "execution_count": 67,
      "metadata": {},
      "outputs": [
        {
          "data": {
            "image/png": "[encoded data removed]",
            "text/plain": [
              "<Figure size 800x600 with 1 Axes>"
            ]
          },
          "metadata": {},
          "output_type": "display_data"
        }
      ],
      "source": [
        "plt.figure(figsize=[8,6])\n",
        "plt.plot(evol[\"Time\"], evol[\"final.star.Luminosity\"])\n",
        "plt.xlabel(\"Time [yr]\")\n",
        "plt.ylabel(\"Luminosity\")\n",
        "plt.xscale(\"log\")\n",
        "plt.yscale(\"log\")\n",
        "plt.show()"
      ]
    },
    {
      "cell_type": "markdown",
      "metadata": {},
      "source": [
        "#### Habitable zone limits\n",
        "\n",
        "How does the \"habitable zone\" vary for Trappist-1? See what this looks like for different planetary conditions from [Kopparapu+2013](https://iopscience.iop.org/article/10.1088/0004-637X/765/2/131/meta) by adding these variables to your `outparams` dictionary and re-running the model:\n",
        "```\n",
        "HZLimitDryRunaway\n",
        "HZLimRecVenus\n",
        "HZLimRunaway\n",
        "HZLimMoistGreenhouse\n",
        "HZLimMaxGreenhouse\n",
        "HZLimEarlyMars  \n",
        "```"
      ]
    },
    {
      "cell_type": "code",
      "execution_count": 96,
      "metadata": {},
      "outputs": [],
      "source": [
        "#[your code goes here...]\n",
        "inparams  = {\"star.dMass\": u.Msun,          \n",
        "             \"star.dSatXUVFrac\": u.dex(u.dimensionless_unscaled),   \n",
        "             \"star.dSatXUVTime\": u.Gyr,    \n",
        "             \"vpl.dStopTime\": u.Gyr,       \n",
        "             \"star.dXUVBeta\": -u.dimensionless_unscaled}\n",
        "\n",
        "outparams = {\"final.star.Radius\": u.Rsun,\n",
        "             \"final.star.Luminosity\": u.Lsun,\n",
        "             \"final.star.LXUVStellar\": u.Lsun,\n",
        "             \"final.star.HZLimitDryRunaway\": u.m,\n",
        "             \"final.star.HZLimRecVenus\": u.m,\n",
        "             \"final.star.HZLimRunaway\": u.m,\n",
        "             \"final.star.HZLimMoistGreenhouse\": u.m,\n",
        "             \"final.star.HZLimMaxGreenhouse\": u.m,\n",
        "             \"final.star.HZLimEarlyMars\": u.m }\n",
        "\n",
        "vpm = vpi.VplanetModel(inparams=inparams,\n",
        "                       outparams=outparams,\n",
        "                       inpath=\"/home/jcruz001/research/vplanet_inference/infiles/stellar\",\n",
        "                       outpath=\"/home/jcruz001/research/yupra/JCruz001/tutorials/output\",\n",
        "                       time_init=5e6*u.yr,\n",
        "                       timesteps=1e6*u.yr,\n",
        "                       verbose=True)"
      ]
    },
    {
      "cell_type": "code",
      "execution_count": 97,
      "metadata": {},
      "outputs": [
        {
          "name": "stdout",
          "output_type": "stream",
          "text": [
            "\n",
            "Input:\n",
            "-----------------\n",
            "star.dMass : 0.09 [solMass] (user)   --->   1.789568883628246e+29 [kg] (vpl file)\n",
            "star.dSatXUVFrac : -3.03 [dex] (user)   --->   0.0009332543007969915 [] (vpl file)\n",
            "star.dSatXUVTime : 3.14 [Gyr] (user)   --->   9.9090864e+16 [s] (vpl file)\n",
            "vpl.dStopTime : 7.96 [Gyr] (user)   --->   2.51198496e+17 [s] (vpl file)\n",
            "star.dXUVBeta : -1.17 [-1.0] (user)   --->   1.17 [] (vpl file)\n",
            "\n",
            "Created file /home/jcruz001/research/yupra/JCruz001/tutorials/output/solar_evol_trappist/vpl.in\n",
            "Created file /home/jcruz001/research/yupra/JCruz001/tutorials/output/solar_evol_trappist/star.in\n",
            "Executed model /home/jcruz001/research/yupra/JCruz001/tutorials/output/solar_evol_trappist/vpl.in 14.504 s\n",
            "\n",
            "Output:\n",
            "-----------------\n",
            "final.star.HZLimEarlyMars : 8132915000.0 [m]\n",
            "final.star.HZLimMaxGreenhouse : 7457054000.0 [m]\n",
            "final.star.HZLimMoistGreenhouse : 3840292000.0 [m]\n",
            "final.star.HZLimRecVenus : 2902347000.0 [m]\n",
            "final.star.HZLimRunaway : 3813302000.0 [m]\n",
            "final.star.HZLimitDryRunaway : 3208796000.0 [m]\n",
            "final.star.LXUVStellar : 1.7621810344827586e-07 [solLum]\n",
            "final.star.Luminosity : 0.0005610869905956113 [solLum]\n",
            "final.star.Radius : 0.11299965502371712 [solRad]\n",
            "\n"
          ]
        }
      ],
      "source": [
        "Ohm = np.array([0.09,-3.03,3.14, 7.96, -1.17])\n",
        "evol = vpm.run_model(Ohm, remove=False, outsubpath=\"solar_evol_trappist\")"
      ]
    },
    {
      "cell_type": "code",
      "execution_count": null,
      "metadata": {},
      "outputs": [],
      "source": []
    }
  ],
  "metadata": {
    "colab": {
      "authorship_tag": "ABX9TyNSotif2Gox1WMkDQFx7TR1",
      "provenance": []
    },
    "kernelspec": {
      "display_name": "Python 3",
      "name": "python3"
    },
    "language_info": {
      "codemirror_mode": {
        "name": "ipython",
        "version": 3
      },
      "file_extension": ".py",
      "mimetype": "text/x-python",
      "name": "python",
      "nbconvert_exporter": "python",
      "pygments_lexer": "ipython3",
      "version": "3.9.0"
    }
  },
  "nbformat": 4,
  "nbformat_minor": 0
}

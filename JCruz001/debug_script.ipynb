{
 "cells": [
  {
   "cell_type": "code",
   "execution_count": 1,
   "metadata": {},
   "outputs": [],
   "source": [
    "import numpy as np"
   ]
  },
  {
   "cell_type": "markdown",
   "metadata": {},
   "source": []
  },
  {
   "cell_type": "code",
   "execution_count": 5,
   "metadata": {},
   "outputs": [],
   "source": [
    "files = np.load(\"/home/jcruz001/research/yupra/JCruz001/results/ExpSquaredKernel/initial_training_sample.npz\")"
   ]
  },
  {
   "cell_type": "code",
   "execution_count": 9,
   "metadata": {},
   "outputs": [
    {
     "data": {
      "text/plain": [
       "['theta', 'y']"
      ]
     },
     "execution_count": 9,
     "metadata": {},
     "output_type": "execute_result"
    }
   ],
   "source": [
    "list(files.keys())"
   ]
  },
  {
   "cell_type": "code",
   "execution_count": 10,
   "metadata": {},
   "outputs": [
    {
     "data": {
      "text/plain": [
       "array([[ 2.10771833e-01,  7.62553065e+00,  3.25665526e+00, ...,\n",
       "        -1.93085674e+00,  5.87746152e-02,  5.21254807e-04],\n",
       "       [ 1.45052909e-01,  6.78707243e+00,  9.95826879e+00, ...,\n",
       "        -1.95679086e+00,  5.84365614e-02,  5.34199254e-04],\n",
       "       [ 2.02456436e-01,  6.34132021e+00,  1.10267620e+01, ...,\n",
       "        -1.92731804e+00,  6.14293220e-02,  5.43119566e-04],\n",
       "       ...,\n",
       "       [ 1.90330306e-01,  5.01432911e+00,  9.92344978e+00, ...,\n",
       "        -1.87669834e+00,  4.95616832e-02,  5.06647174e-04],\n",
       "       [ 2.09665578e-01,  1.87366869e+00,  9.05752580e+00, ...,\n",
       "        -1.91602954e+00,  6.79543770e-02,  5.54424433e-04],\n",
       "       [ 2.00326863e-01,  1.09726323e+01,  1.81748421e+00, ...,\n",
       "        -1.92670199e+00,  6.10577146e-02,  4.93032942e-04]])"
      ]
     },
     "execution_count": 10,
     "metadata": {},
     "output_type": "execute_result"
    }
   ],
   "source": [
    "files['theta']"
   ]
  },
  {
   "cell_type": "code",
   "execution_count": 11,
   "metadata": {},
   "outputs": [
    {
     "data": {
      "text/plain": [
       "array([ 2.3360652 ,         nan,         nan,         nan,  4.62105857,\n",
       "               nan,  4.28749899,  1.64510156,         nan,         nan,\n",
       "        4.57253051,  5.0071288 ,  1.27613035,  4.69643912,  4.57658359,\n",
       "               nan,  2.46978022,  4.90696518,         nan,         nan,\n",
       "               nan,  2.37652191,  1.44526809,         nan,         nan,\n",
       "               nan,  4.51852523,  1.92333579,         nan,  4.5144114 ,\n",
       "               nan,  2.41014617,  3.44428066,  3.05372482,  1.89277704,\n",
       "        1.12554333,  1.52872708,  3.09564397,  2.39219225,  4.40603792,\n",
       "        2.54233941,  1.59793219,  3.62282803,         nan,         nan,\n",
       "               nan,  2.08190569,  2.21613561,  1.19362177,         nan,\n",
       "        4.46863552,  4.78366946,  4.50310345,  1.75592297,         nan,\n",
       "               nan,  4.94854001,  2.49570854,         nan,  4.45177371,\n",
       "        5.10134607,         nan,         nan,         nan,  2.57390853,\n",
       "        4.26261423,         nan,  2.35677273,  2.60587312,  1.21499706,\n",
       "        1.08397115,         nan,  2.65457508,  4.47029642,  4.47013918,\n",
       "        2.04401244,  1.89121815,  2.640055  , -0.39005343,  1.72451256,\n",
       "               nan,         nan,  4.82874763,  2.91535229,  4.21146194,\n",
       "        4.62194423,  4.39592345,  3.30757277,  1.15702375,  1.12459932,\n",
       "               nan,  4.50187782,         nan,         nan,  2.12621965,\n",
       "        3.82928102,  0.89948375,  3.18368857,         nan,         nan,\n",
       "               nan,  1.96463062,         nan,  4.56798579,  4.16458376,\n",
       "        2.12253993,  1.80657341,  0.18494276,         nan,  4.57621811,\n",
       "               nan,         nan,         nan,         nan,         nan,\n",
       "               nan,         nan,  0.67518265,         nan,         nan,\n",
       "        0.73543876,         nan,  4.62549229,  1.53203642,         nan,\n",
       "               nan,         nan,  2.23525137,         nan,  2.38565639,\n",
       "        1.99783331,         nan,         nan,         nan,         nan,\n",
       "               nan,  2.33293488,         nan,         nan,  2.2599859 ,\n",
       "        1.96231458,  3.17514896,         nan,  4.37081762,  4.67147724,\n",
       "        2.69534806,         nan,  2.16107071,         nan,  0.80660345,\n",
       "               nan,         nan,         nan,         nan,  4.1107577 ,\n",
       "        1.40856323,  4.47799067,  2.61976713,  3.25418958,         nan,\n",
       "        1.940925  ,         nan,  1.66839589,         nan,  0.07595262,\n",
       "        1.35742441,  4.24801688,  0.41965107,  1.20335814,  1.42944307,\n",
       "               nan,         nan,  2.60073477,  3.19394325,  4.20476669,\n",
       "       -0.32010359,  4.68475184,  1.92979873,         nan,         nan,\n",
       "               nan,  0.97637122,  1.73045369,         nan,         nan,\n",
       "        1.52837157,         nan,  4.32616712,         nan,         nan,\n",
       "               nan,  1.91588185,  3.46120906,         nan,         nan,\n",
       "        1.72330385,         nan,         nan,  0.90662906,  3.41759201])"
      ]
     },
     "execution_count": 11,
     "metadata": {},
     "output_type": "execute_result"
    }
   ],
   "source": [
    "files['y']"
   ]
  },
  {
   "cell_type": "code",
   "execution_count": null,
   "metadata": {},
   "outputs": [],
   "source": []
  }
 ],
 "metadata": {
  "kernelspec": {
   "display_name": "yupra",
   "language": "python",
   "name": "python3"
  },
  "language_info": {
   "codemirror_mode": {
    "name": "ipython",
    "version": 3
   },
   "file_extension": ".py",
   "mimetype": "text/x-python",
   "name": "python",
   "nbconvert_exporter": "python",
   "pygments_lexer": "ipython3",
   "version": "3.9.0"
  }
 },
 "nbformat": 4,
 "nbformat_minor": 2
}

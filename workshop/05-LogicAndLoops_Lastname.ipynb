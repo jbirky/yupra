{
 "cells": [
  {
   "cell_type": "markdown",
   "id": "5054e0d8",
   "metadata": {},
   "source": [
    "# Control flow/logic\n",
    "### Control flow statements literally control the flow of your code!\n",
    "There are a few basic types of control flow statements that we will learn. These are as follows: \n",
    "- **if:** do something _if_ some condition is `True`\n",
    "\n",
    "Let's look at some examples. **Notice that indentation (whitespace preceding code) matters in Python**! Blocks of text following an `if` statement must be indented to run properly. You can think of the indent as saying \"do\"."
   ]
  },
  {
   "cell_type": "markdown",
   "id": "a09cfc7f",
   "metadata": {},
   "source": [
    "## What is a boolean?\n",
    "\n",
    "A boolean is a special data type in python that has two possible values, `True` or `False`.\n",
    "\n",
    "When we type a statement in python that results in a Boolean, we are essentially asking if that statement is `True` or `False`. For example"
   ]
  },
  {
   "cell_type": "code",
   "execution_count": 3,
   "id": "55937607",
   "metadata": {},
   "outputs": [
    {
     "name": "stdout",
     "output_type": "stream",
     "text": [
      "False\n",
      "False\n"
     ]
    }
   ],
   "source": [
    "number = 2\n",
    "\n",
    "print(number > 2)\n",
    "print(number < 2)"
   ]
  },
  {
   "cell_type": "code",
   "execution_count": 6,
   "id": "f50db4e8",
   "metadata": {},
   "outputs": [
    {
     "name": "stdout",
     "output_type": "stream",
     "text": [
      "<class 'bool'>\n",
      "<class 'bool'>\n"
     ]
    },
    {
     "ename": "NameError",
     "evalue": "name 'parrot' is not defined",
     "output_type": "error",
     "traceback": [
      "\u001b[0;31m---------------------------------------------------------------------------\u001b[0m",
      "\u001b[0;31mNameError\u001b[0m                                 Traceback (most recent call last)",
      "Cell \u001b[0;32mIn[6], line 4\u001b[0m\n\u001b[1;32m      1\u001b[0m \u001b[38;5;28mprint\u001b[39m(\u001b[38;5;28mtype\u001b[39m(\u001b[38;5;28;01mTrue\u001b[39;00m))\n\u001b[1;32m      2\u001b[0m \u001b[38;5;28mprint\u001b[39m(\u001b[38;5;28mtype\u001b[39m(\u001b[38;5;28;01mFalse\u001b[39;00m))\n\u001b[0;32m----> 4\u001b[0m \u001b[38;5;28mprint\u001b[39m(\u001b[38;5;28mtype\u001b[39m(\u001b[43mparrot\u001b[49m))\n",
      "\u001b[0;31mNameError\u001b[0m: name 'parrot' is not defined"
     ]
    }
   ],
   "source": [
    "print(type(True))\n",
    "print(type(False))\n",
    "\n",
    "print(type(parrot))"
   ]
  },
  {
   "cell_type": "markdown",
   "id": "aa8686b6",
   "metadata": {},
   "source": [
    "This doesn't just hold for numbers, we can check if a variable is equal to a string as well. Remember that when we want to check if two things are equal, we use `==`."
   ]
  },
  {
   "cell_type": "code",
   "execution_count": 12,
   "id": "f1d5a538",
   "metadata": {},
   "outputs": [
    {
     "name": "stdout",
     "output_type": "stream",
     "text": [
      "True\n"
     ]
    }
   ],
   "source": [
    "chalkboard_text = \"Futurama\"\n",
    "\n",
    "print(chalkboard_text == \"Futurama\")"
   ]
  },
  {
   "cell_type": "code",
   "execution_count": 13,
   "id": "fe2eada3",
   "metadata": {},
   "outputs": [
    {
     "name": "stdout",
     "output_type": "stream",
     "text": [
      "False\n"
     ]
    }
   ],
   "source": [
    "print(4 == 5)"
   ]
  },
  {
   "cell_type": "code",
   "execution_count": 15,
   "id": "b9945791-4eee-4fcc-b764-cb39de7492ea",
   "metadata": {},
   "outputs": [
    {
     "name": "stdout",
     "output_type": "stream",
     "text": [
      "False\n"
     ]
    }
   ],
   "source": [
    "print(number == 5)"
   ]
  },
  {
   "cell_type": "markdown",
   "id": "2bf44324",
   "metadata": {},
   "source": [
    "This will come in handy today as we learn how to write code that only runs sometimes to handle multiple cases."
   ]
  },
  {
   "cell_type": "markdown",
   "id": "f5e36376",
   "metadata": {},
   "source": [
    "### `and` and `or`\n",
    "\n",
    "You can make complex statements that result in Booleans by using `and` and `or`. These work as follows:"
   ]
  },
  {
   "cell_type": "code",
   "execution_count": 16,
   "id": "a2ff99e6",
   "metadata": {},
   "outputs": [],
   "source": [
    "number = 5"
   ]
  },
  {
   "cell_type": "code",
   "execution_count": 24,
   "id": "8146a4d8-b231-44c2-a780-934884bf6a5a",
   "metadata": {},
   "outputs": [
    {
     "data": {
      "text/plain": [
       "6"
      ]
     },
     "execution_count": 24,
     "metadata": {},
     "output_type": "execute_result"
    }
   ],
   "source": [
    "number + 1"
   ]
  },
  {
   "cell_type": "code",
   "execution_count": 17,
   "id": "ec35a42e",
   "metadata": {},
   "outputs": [
    {
     "name": "stdout",
     "output_type": "stream",
     "text": [
      "True\n"
     ]
    }
   ],
   "source": [
    "print(number > 0 and number == 5)"
   ]
  },
  {
   "cell_type": "code",
   "execution_count": 18,
   "id": "57f91fcf",
   "metadata": {},
   "outputs": [
    {
     "name": "stdout",
     "output_type": "stream",
     "text": [
      "False\n"
     ]
    }
   ],
   "source": [
    "print(number > 0 and number > 10)"
   ]
  },
  {
   "cell_type": "code",
   "execution_count": 19,
   "id": "d72714a6",
   "metadata": {},
   "outputs": [
    {
     "name": "stdout",
     "output_type": "stream",
     "text": [
      "False\n"
     ]
    }
   ],
   "source": [
    "print(number < 0 and number > 10)"
   ]
  },
  {
   "cell_type": "code",
   "execution_count": 20,
   "id": "9c531ddc",
   "metadata": {},
   "outputs": [
    {
     "name": "stdout",
     "output_type": "stream",
     "text": [
      "True\n"
     ]
    }
   ],
   "source": [
    "print(number > 0 or number == 5)"
   ]
  },
  {
   "cell_type": "code",
   "execution_count": 22,
   "id": "d548dfc6",
   "metadata": {},
   "outputs": [
    {
     "name": "stdout",
     "output_type": "stream",
     "text": [
      "True\n"
     ]
    }
   ],
   "source": [
    "print(number > 0 or number > 10)"
   ]
  },
  {
   "cell_type": "code",
   "execution_count": 15,
   "id": "20d39bd5",
   "metadata": {},
   "outputs": [
    {
     "name": "stdout",
     "output_type": "stream",
     "text": [
      "False\n"
     ]
    }
   ],
   "source": [
    "print(number < 0 or number > 10)"
   ]
  },
  {
   "cell_type": "code",
   "execution_count": 23,
   "id": "498ac906-4de4-49d2-9165-f81c4741c923",
   "metadata": {},
   "outputs": [
    {
     "data": {
      "text/plain": [
       "False"
      ]
     },
     "execution_count": 23,
     "metadata": {},
     "output_type": "execute_result"
    }
   ],
   "source": [
    "number == 1"
   ]
  },
  {
   "cell_type": "markdown",
   "id": "97c75133",
   "metadata": {},
   "source": [
    "## The `if` statement\n",
    "\n",
    "When you need a program to do something more complicated than arithmetic, you'll sometimes need the code to do something _if_ some condition is met, otherwise it should do something else.\n",
    "\n",
    "The syntax is as follows\n",
    "\n",
    "```python\n",
    "if STATEMENT:\n",
    "    THING\n",
    "```\n",
    "\n",
    "so, python does the THING if the STATEMENT is true. We can also tell python what to do if STATEMENT is not true, with:\n",
    "\n",
    "```python\n",
    "if STATEMENT:\n",
    "    THING\n",
    "else:\n",
    "    OTHERTHING\n",
    "```\n",
    "\n",
    "One basic example is checking a password. _If_ someone submits the right password, then tell them they're welcome, _else_ (otherwise) give them a warning to get away. Here's how we can do that in Python:\n"
   ]
  },
  {
   "cell_type": "code",
   "execution_count": 36,
   "id": "5167e205",
   "metadata": {},
   "outputs": [
    {
     "name": "stdout",
     "output_type": "stream",
     "text": [
      "Enter.\n"
     ]
    }
   ],
   "source": [
    "password = 'friend'\n",
    "truePassword = 'friend'\n",
    "\n",
    "if password == truePassword:\n",
    "    # This indented code will only run if the above condition is True\n",
    "    print('Enter.')\n",
    "else:\n",
    "    # This indented code will only run if the above condition is False\n",
    "    print('You shall not pass!')"
   ]
  },
  {
   "cell_type": "code",
   "execution_count": 38,
   "id": "215e3148-604c-4a41-8d2e-934eccf86e2e",
   "metadata": {},
   "outputs": [
    {
     "name": "stdout",
     "output_type": "stream",
     "text": [
      "Heat up\n"
     ]
    }
   ],
   "source": [
    "currentTemp = 68\n",
    "idealTemp = 72\n",
    "\n",
    "if currentTemp != idealTemp:\n",
    "    print(\"Heat up\")\n",
    "else:\n",
    "    print(\"Feelin fine\")"
   ]
  },
  {
   "cell_type": "markdown",
   "id": "094353cd",
   "metadata": {},
   "source": [
    "The above example has only two possible outcomes - either the password is correct or incorrect. Sometimes, you'll want more possible outcomes, and for those occasions you can use the `elif` statement, meaning \"else-if\". For example, let's create a program that tells you how someone might react to a gift of skittles:\n",
    "\n",
    "Run the code in the cell below and see what happens when you change the value of the `skittles_gifted` variable."
   ]
  },
  {
   "cell_type": "code",
   "execution_count": 46,
   "id": "1417a5bc",
   "metadata": {},
   "outputs": [
    {
     "name": "stdout",
     "output_type": "stream",
     "text": [
      "I would love some more skittles if you'll share.\n"
     ]
    }
   ],
   "source": [
    "skittles_gifted = 2\n",
    "\n",
    "if skittles_gifted < 5:\n",
    "    print(\"I would love some more skittles if you'll share.\")\n",
    "elif skittles_gifted < 10:\n",
    "    print(\"Maybe one more skittle please.\")\n",
    "elif skittles_gifted < 50:\n",
    "    print(\"Thank you, but this is too many skittles.\")\n",
    "else:\n",
    "    print(\"Oh no! I'm buried in skittles now.\")"
   ]
  },
  {
   "cell_type": "code",
   "execution_count": 45,
   "id": "4261a6c4-0a83-4581-b2a0-a869b154c78f",
   "metadata": {},
   "outputs": [
    {
     "name": "stdout",
     "output_type": "stream",
     "text": [
      "I would love some more skittles if you'll share.\n"
     ]
    }
   ],
   "source": [
    "skittles_gifted = 2\n",
    "\n",
    "if skittles_gifted < 5:\n",
    "    print(\"I would love some more skittles if you'll share.\")\n",
    "if skittles_gifted > 5 and skittles_gifted < 10:\n",
    "    print(\"Maybe one more skittle please.\")\n",
    "if skittles_gifted > 10 and skittles_gifted < 50:\n",
    "    print(\"Thank you, but this is too many skittles.\")\n",
    "if skittles_gifted >= 50:\n",
    "    print(\"Oh no! I'm buried in skittles now.\")"
   ]
  },
  {
   "cell_type": "markdown",
   "id": "f6257764",
   "metadata": {},
   "source": [
    "### Example 1\n",
    "\n",
    "In the cell below, turn the above code into a function, where the argument is the amount of skittles gifted: "
   ]
  },
  {
   "cell_type": "code",
   "execution_count": 47,
   "id": "1565d09a",
   "metadata": {},
   "outputs": [
    {
     "name": "stdout",
     "output_type": "stream",
     "text": [
      "I would love some more skittles if you'll share.\n"
     ]
    }
   ],
   "source": [
    "skittles_gifted = 2\n",
    "\n",
    "if skittles_gifted < 5:\n",
    "    print(\"I would love some more skittles if you'll share.\")\n",
    "elif skittles_gifted < 10:\n",
    "    print(\"Maybe one more skittle please.\")\n",
    "elif skittles_gifted < 50:\n",
    "    print(\"Thank you, but this is too many skittles.\")\n",
    "else:\n",
    "    print(\"Oh no! I'm buried in skittles now.\")"
   ]
  },
  {
   "cell_type": "code",
   "execution_count": null,
   "id": "1cc3e155-2082-4def-8b68-474d531a16af",
   "metadata": {},
   "outputs": [],
   "source": []
  },
  {
   "cell_type": "code",
   "execution_count": null,
   "id": "096af0c6-7e99-445f-9367-3cbbb1dfadda",
   "metadata": {},
   "outputs": [],
   "source": []
  },
  {
   "cell_type": "code",
   "execution_count": null,
   "id": "05510735-c24a-4775-bbe2-77b29c961c84",
   "metadata": {},
   "outputs": [],
   "source": []
  },
  {
   "cell_type": "markdown",
   "id": "3552d261",
   "metadata": {},
   "source": [
    "### Example 2\n",
    "\n",
    "In the cell below, create a function that checks that a customer paid the correct amount for a product. The function should have two arguments: `customer_paid` for how much the customer gave you, and `price` for how much the product costs. Then your program will do one of three things: \n",
    "1. If the customer pays exactly the price, print \"thanks!\"\n",
    "2. If the customer pays more than the price, print \"thanks!!!\"\n",
    "3. If the customer pays less than the price, print \"try again\""
   ]
  },
  {
   "cell_type": "code",
   "execution_count": null,
   "id": "527f8f0d",
   "metadata": {},
   "outputs": [],
   "source": []
  },
  {
   "cell_type": "markdown",
   "id": "e7c2eb5f-65bb-46a1-9967-66d3cabf4665",
   "metadata": {},
   "source": [
    "### The `for` loop\n",
    "\n",
    "The `for` loop is trickier to learn than the other statements we've learned so far, but it's worth the trouble! \n",
    "\n",
    "A `for` loop is used to do something with every element of a list or array. The syntax is as follows\n",
    "\n",
    "```python\n",
    "for VARNAME in ITERABLE:\n",
    "    DO THING WITH VARNAME\n",
    "```\n",
    "You can give VARNAME whatever name you want. When you do something with that variable name in the for loop, python will do that to every element of ITERABLE.\n",
    "\n",
    "Let's say you have a grocery list of items you want to buy from the store. And let's say that the store publishes a list of prices for each item."
   ]
  },
  {
   "cell_type": "code",
   "execution_count": 48,
   "id": "f06925f0-788f-488c-bcb5-1d03f7443e8b",
   "metadata": {},
   "outputs": [
    {
     "name": "stdout",
     "output_type": "stream",
     "text": [
      "['eggs', 'tofu', 'milk', 'chorizo', 'potatoes', 'tortillas', 'candy'] [1.99, 2.99, 0.99, 3.99, 1.99, 0.99, 5.99]\n"
     ]
    }
   ],
   "source": [
    "grocery_list = ['eggs', 'tofu', 'milk', 'chorizo', 'potatoes', 'tortillas', 'candy']\n",
    "\n",
    "# List is in dollars for (in order): eggs, tofu, milk, bread, candy\n",
    "prices_list = [1.99, 2.99, 0.99, 3.99, 1.99, 0.99, 5.99] \n",
    "\n",
    "print(grocery_list, prices_list)"
   ]
  },
  {
   "cell_type": "markdown",
   "id": "b5855b83-d280-43ee-b1c8-2b0ab5888793",
   "metadata": {},
   "source": [
    "Note that the lists are printed sequentially. It would be a lot easier to read this like a table, with a column of items, and a column of their corresponding prices. We can do that with the code below. "
   ]
  },
  {
   "cell_type": "code",
   "execution_count": 49,
   "id": "8b39bd3f-0bdf-4b85-a6d4-4ba9b570ce04",
   "metadata": {},
   "outputs": [
    {
     "name": "stdout",
     "output_type": "stream",
     "text": [
      "eggs 1.99\n",
      "tofu 2.99\n",
      "milk 0.99\n",
      "chorizo 3.99\n",
      "potatoes 1.99\n",
      "tortillas 0.99\n",
      "candy 5.99\n"
     ]
    }
   ],
   "source": [
    "print(grocery_list[0], prices_list[0])\n",
    "print(grocery_list[1], prices_list[1])\n",
    "print(grocery_list[2], prices_list[2])\n",
    "print(grocery_list[3], prices_list[3])\n",
    "print(grocery_list[4], prices_list[4])\n",
    "print(grocery_list[5], prices_list[5])\n",
    "print(grocery_list[6], prices_list[6])"
   ]
  },
  {
   "cell_type": "markdown",
   "id": "372b5534-e8db-455b-8b96-836d39f76361",
   "metadata": {},
   "source": [
    "But that took a lot of typing! And would take even more typing if we had a longer grocery list. We can do this really efficiently with a `for` loop. But we have to build up to it first!\n",
    "\n",
    "Let's start by printing each name in the `grocery_list` list with a `for` loop: "
   ]
  },
  {
   "cell_type": "code",
   "execution_count": 54,
   "id": "1d7d223f-2fda-4f88-a378-c82dd9e4086f",
   "metadata": {},
   "outputs": [
    {
     "name": "stdout",
     "output_type": "stream",
     "text": [
      "eggs\n",
      "tofu\n",
      "milk\n",
      "chorizo\n",
      "potatoes\n",
      "tortillas\n",
      "candy\n"
     ]
    }
   ],
   "source": [
    "for grocery in grocery_list: # Think about this as saying \"for each name in grocery_list: do\"\n",
    "    print(grocery)"
   ]
  },
  {
   "cell_type": "code",
   "execution_count": 56,
   "id": "1fe4f0fe-b3b3-4ccf-967a-7643e0fbe0ac",
   "metadata": {},
   "outputs": [
    {
     "name": "stdout",
     "output_type": "stream",
     "text": [
      "eggs\n",
      "tofu\n",
      "milk\n",
      "chorizo\n",
      "potatoes\n",
      "tortillas\n",
      "candy\n"
     ]
    }
   ],
   "source": [
    "print(grocery_list[0])\n",
    "print(grocery_list[1])\n",
    "print(grocery_list[2])\n",
    "print(grocery_list[3])\n",
    "print(grocery_list[4])\n",
    "print(grocery_list[5])\n",
    "print(grocery_list[6])"
   ]
  },
  {
   "cell_type": "markdown",
   "id": "beda09f7-bd18-41c3-b4ce-ebda556ece0b",
   "metadata": {},
   "source": [
    "Let's break it down. `grocery_list` is the list that we're going to _iterate_ over, or _loop_ over. When you say `for grocery in grocery_list`, here's what happens: \n",
    "* the `for` says you're going to start a `for` loop\n",
    "* `grocery` is a new variable that you're specifying, which the `grocery` loop is going to give values to. You can name this variable whatever you want\n",
    "* `in` says that each `grocery` is going to come from an element of the `grocery_list` list\n",
    "* `grocery_list` is the list that you're going to pull elements from\n",
    "\n",
    "Here's what is going to happen when the `for` loop is run:\n",
    "1. The `for` loop sets the variable `grocery` equal to the first item in `grocery_list` (which is `\"eggs\"`)\n",
    "2. The indented code is executed\n",
    "3. The `for` loop sets `grocery` equal to the second item in `grocery_list` (which is `\"tofu\"`)\n",
    "4. The indented code is executed\n",
    "5. The `for` loop sets `grocery` equal to the third item in `grocery_list` (which is `\"milk\"`)\n",
    "6. Repeat until you've iterated over every element in `grocery_list`\n",
    "\n",
    "### Example 3\n",
    "\n",
    "In the cell below, use the `for` loop above as a template to create a `for` loop that prints the price of each grocery from the `prices_list`."
   ]
  },
  {
   "cell_type": "code",
   "execution_count": null,
   "id": "bf043411-82fe-495a-8900-7854e5a7b2c3",
   "metadata": {},
   "outputs": [],
   "source": []
  },
  {
   "cell_type": "markdown",
   "id": "1ad8bec4-cf37-42c1-9feb-2ce6d7c1aefa",
   "metadata": {},
   "source": [
    "## Making a table of groceries and their prices"
   ]
  },
  {
   "cell_type": "markdown",
   "id": "518e90bd-7e32-4415-9f9c-47e6bbd18bd7",
   "metadata": {},
   "source": [
    "So, we want to make a table that has two columns, the first column has the groceries and the second has their prices. You might think, \"if a for loop iterates over one list, then how can we do something with two lists?\"\n",
    "\n",
    "This is where a new function called `range` comes in handy. Let's see what it does in the context of `for` loops."
   ]
  },
  {
   "cell_type": "code",
   "execution_count": 7,
   "id": "c22b33b2-617c-4cb0-9e3a-524577616383",
   "metadata": {},
   "outputs": [
    {
     "name": "stdout",
     "output_type": "stream",
     "text": [
      "0\n",
      "1\n",
      "2\n",
      "3\n",
      "4\n"
     ]
    }
   ],
   "source": [
    "for i in range(5):\n",
    "    print(i)"
   ]
  },
  {
   "cell_type": "markdown",
   "id": "284bfe26-2c24-46fb-8c61-409be5a30767",
   "metadata": {},
   "source": [
    "The `for` loop is first setting `i=0` and printing `i`, then it sets `i=1` and prints `i`, and keeps going until the last element, 4.\n",
    "\n",
    "The range function is producing a series of consecutive integers just like `np.arange` did. The argument `5` tells `range` to produce the numbers from zero to four.\n",
    "\n",
    "Now, let's recall how indexing of lists works. If we want to see the first element of the `grocery_list` list we would write `grocery_list[0]`, or `grocery_list[1]` for the second element of the list. \n",
    "\n",
    "So, let's print every grocery in the `grocery_list` with a `for` loop and indexing."
   ]
  },
  {
   "cell_type": "code",
   "execution_count": 8,
   "id": "342e88fd-ccca-4174-844b-3e8317b34e1d",
   "metadata": {},
   "outputs": [
    {
     "name": "stdout",
     "output_type": "stream",
     "text": [
      "7\n"
     ]
    }
   ],
   "source": [
    "number_of_groceries = len(grocery_list)\n",
    "print(number_of_groceries)"
   ]
  },
  {
   "cell_type": "code",
   "execution_count": 9,
   "id": "276cff95-6e8b-475e-9d33-58692b6376f2",
   "metadata": {},
   "outputs": [
    {
     "name": "stdout",
     "output_type": "stream",
     "text": [
      "eggs\n",
      "tofu\n",
      "milk\n",
      "chorizo\n",
      "potatoes\n",
      "tortillas\n",
      "candy\n"
     ]
    }
   ],
   "source": [
    "for number in range(number_of_groceries):\n",
    "    print(grocery_list[number])"
   ]
  },
  {
   "cell_type": "markdown",
   "id": "66bb9db5-5c2a-49ad-bb34-a77e6faa2c28",
   "metadata": {},
   "source": [
    "So, you might think \"Hey! This is just the same as the code we wrote above where we said\n",
    "```python\n",
    "for grocery in grocery_list:\n",
    "    print(grocery)\n",
    "```\n",
    "what's the point of doing it a different way?\"\n",
    "\n",
    "Well, in this case, you're not iterating over ``grocery_list``, you're iterating over the indices of ``grocery_list``, and these indices can be used to index into other lists.\n",
    "\n",
    "Let's get back to our goal, printing each grocery and their corresponding price in two columns."
   ]
  },
  {
   "cell_type": "markdown",
   "id": "e49b2ce9-0433-4dda-af3c-b22eb5fecffc",
   "metadata": {},
   "source": [
    "### Example 4\n",
    "\n",
    "Use a single for loop, the ```range``` function, and indexing to print each grocery and their corresponding price in a two-column format.\n",
    "\n",
    "**Heads up:** this is the toughest coding we've done so far, and it's going to be confusing. Nobody understands `for` loops the first time that they see them, so don't hesitate to ask for help. Remember to talk with your neighbors, and to raise your hand if you get stuck!"
   ]
  },
  {
   "cell_type": "code",
   "execution_count": null,
   "id": "9e28489f-1a07-4167-93bd-d776e67d47d5",
   "metadata": {},
   "outputs": [],
   "source": []
  }
 ],
 "metadata": {
  "kernelspec": {
   "display_name": "Python 3 (ipykernel)",
   "language": "python",
   "name": "python3"
  },
  "language_info": {
   "codemirror_mode": {
    "name": "ipython",
    "version": 3
   },
   "file_extension": ".py",
   "mimetype": "text/x-python",
   "name": "python",
   "nbconvert_exporter": "python",
   "pygments_lexer": "ipython3",
   "version": "3.8.10"
  }
 },
 "nbformat": 4,
 "nbformat_minor": 5
}
